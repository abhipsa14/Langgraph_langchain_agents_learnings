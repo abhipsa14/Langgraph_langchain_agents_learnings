{
 "cells": [
  {
   "cell_type": "markdown",
   "id": "3c9c1bb0",
   "metadata": {},
   "source": [
    "Pydantic Basics\n",
    "Pydantic model are the foundation of data validation in python. They use python type annotations to define the structure and validate data at runtime."
   ]
  },
  {
   "cell_type": "code",
   "execution_count": 1,
   "id": "eae16065",
   "metadata": {},
   "outputs": [],
   "source": [
    "from pydantic import BaseModel"
   ]
  },
  {
   "cell_type": "code",
   "execution_count": 2,
   "id": "d5a7ce01",
   "metadata": {},
   "outputs": [
    {
     "name": "stdout",
     "output_type": "stream",
     "text": [
      "name='Abhipsa' age=21 city='Bengaluru'\n"
     ]
    },
    {
     "ename": "ValidationError",
     "evalue": "1 validation error for Person\ncity\n  Input should be a valid string [type=string_type, input_value=21, input_type=int]\n    For further information visit https://errors.pydantic.dev/2.11/v/string_type",
     "output_type": "error",
     "traceback": [
      "\u001b[31m---------------------------------------------------------------------------\u001b[39m",
      "\u001b[31mValidationError\u001b[39m                           Traceback (most recent call last)",
      "\u001b[36mCell\u001b[39m\u001b[36m \u001b[39m\u001b[32mIn[2]\u001b[39m\u001b[32m, line 8\u001b[39m\n\u001b[32m      6\u001b[39m person=Person(name=\u001b[33m\"\u001b[39m\u001b[33mAbhipsa\u001b[39m\u001b[33m\"\u001b[39m,age=\u001b[32m21\u001b[39m,city=\u001b[33m\"\u001b[39m\u001b[33mBengaluru\u001b[39m\u001b[33m\"\u001b[39m)\n\u001b[32m      7\u001b[39m \u001b[38;5;28mprint\u001b[39m(person)\n\u001b[32m----> \u001b[39m\u001b[32m8\u001b[39m person1=\u001b[43mPerson\u001b[49m\u001b[43m(\u001b[49m\u001b[43mname\u001b[49m\u001b[43m=\u001b[49m\u001b[33;43m\"\u001b[39;49m\u001b[33;43mAbhipsa\u001b[39;49m\u001b[33;43m\"\u001b[39;49m\u001b[43m,\u001b[49m\u001b[43mage\u001b[49m\u001b[43m=\u001b[49m\u001b[32;43m21\u001b[39;49m\u001b[43m,\u001b[49m\u001b[43mcity\u001b[49m\u001b[43m=\u001b[49m\u001b[32;43m21\u001b[39;49m\u001b[43m)\u001b[49m\n\u001b[32m      9\u001b[39m \u001b[38;5;28mprint\u001b[39m(person1)\n",
      "\u001b[36mFile \u001b[39m\u001b[32m~/Desktop/Learning/Langgraph_langchain_agents_learnings/venv/lib/python3.12/site-packages/pydantic/main.py:253\u001b[39m, in \u001b[36mBaseModel.__init__\u001b[39m\u001b[34m(self, **data)\u001b[39m\n\u001b[32m    251\u001b[39m \u001b[38;5;66;03m# `__tracebackhide__` tells pytest and some other tools to omit this function from tracebacks\u001b[39;00m\n\u001b[32m    252\u001b[39m __tracebackhide__ = \u001b[38;5;28;01mTrue\u001b[39;00m\n\u001b[32m--> \u001b[39m\u001b[32m253\u001b[39m validated_self = \u001b[38;5;28;43mself\u001b[39;49m\u001b[43m.\u001b[49m\u001b[43m__pydantic_validator__\u001b[49m\u001b[43m.\u001b[49m\u001b[43mvalidate_python\u001b[49m\u001b[43m(\u001b[49m\u001b[43mdata\u001b[49m\u001b[43m,\u001b[49m\u001b[43m \u001b[49m\u001b[43mself_instance\u001b[49m\u001b[43m=\u001b[49m\u001b[38;5;28;43mself\u001b[39;49m\u001b[43m)\u001b[49m\n\u001b[32m    254\u001b[39m \u001b[38;5;28;01mif\u001b[39;00m \u001b[38;5;28mself\u001b[39m \u001b[38;5;129;01mis\u001b[39;00m \u001b[38;5;129;01mnot\u001b[39;00m validated_self:\n\u001b[32m    255\u001b[39m     warnings.warn(\n\u001b[32m    256\u001b[39m         \u001b[33m'\u001b[39m\u001b[33mA custom validator is returning a value other than `self`.\u001b[39m\u001b[38;5;130;01m\\n\u001b[39;00m\u001b[33m'\u001b[39m\n\u001b[32m    257\u001b[39m         \u001b[33m\"\u001b[39m\u001b[33mReturning anything other than `self` from a top level model validator isn\u001b[39m\u001b[33m'\u001b[39m\u001b[33mt supported when validating via `__init__`.\u001b[39m\u001b[38;5;130;01m\\n\u001b[39;00m\u001b[33m\"\u001b[39m\n\u001b[32m    258\u001b[39m         \u001b[33m'\u001b[39m\u001b[33mSee the `model_validator` docs (https://docs.pydantic.dev/latest/concepts/validators/#model-validators) for more details.\u001b[39m\u001b[33m'\u001b[39m,\n\u001b[32m    259\u001b[39m         stacklevel=\u001b[32m2\u001b[39m,\n\u001b[32m    260\u001b[39m     )\n",
      "\u001b[31mValidationError\u001b[39m: 1 validation error for Person\ncity\n  Input should be a valid string [type=string_type, input_value=21, input_type=int]\n    For further information visit https://errors.pydantic.dev/2.11/v/string_type"
     ]
    }
   ],
   "source": [
    "class Person(BaseModel):\n",
    "    name:str\n",
    "    age:int\n",
    "    city:str\n",
    "\n",
    "person=Person(name=\"Abhipsa\",age=21,city=\"Bengaluru\")\n",
    "print(person)\n",
    "person1=Person(name=\"Abhipsa\",age=21,city=21)\n",
    "print(person1)"
   ]
  },
  {
   "cell_type": "code",
   "execution_count": 3,
   "id": "fd580191",
   "metadata": {},
   "outputs": [
    {
     "name": "stdout",
     "output_type": "stream",
     "text": [
      "Person(name='Abhipsa', age=21, city='Bengaluru')\n",
      "Person(name='Abhipsa', age=21, city=21)\n"
     ]
    }
   ],
   "source": [
    "from dataclasses import dataclass\n",
    "@dataclass\n",
    "class Person():\n",
    "    name:str\n",
    "    age:int\n",
    "    city:str\n",
    "person=Person(name=\"Abhipsa\",age=21,city=\"Bengaluru\")\n",
    "print(person)\n",
    "person1=Person(name=\"Abhipsa\",age=21,city=21)\n",
    "print(person1)"
   ]
  },
  {
   "cell_type": "code",
   "execution_count": 4,
   "id": "d6f17adb",
   "metadata": {},
   "outputs": [],
   "source": [
    "## 2. Model with optional fields\n",
    "## add optional fields using python's optional type:\n"
   ]
  },
  {
   "cell_type": "code",
   "execution_count": 5,
   "id": "4f5e02b1",
   "metadata": {},
   "outputs": [],
   "source": [
    "from typing import Optional\n",
    "class Employee(BaseModel):\n",
    "    id:int\n",
    "    name:str\n",
    "    department:str\n",
    "    salary: Optional[float]=None ## optional with default value\n",
    "    is_active: Optional[bool]=True## optional with default true"
   ]
  },
  {
   "cell_type": "code",
   "execution_count": 6,
   "id": "da0d3a2f",
   "metadata": {},
   "outputs": [
    {
     "name": "stdout",
     "output_type": "stream",
     "text": [
      "id=1 name='Abhi' department='IT' salary=None is_active=True\n"
     ]
    }
   ],
   "source": [
    "## examples with and without optional fields\n",
    "emp1= Employee(id=1,name=\"Abhi\",department=\"IT\")\n",
    "print(emp1)"
   ]
  },
  {
   "cell_type": "code",
   "execution_count": 7,
   "id": "f6cd17c2",
   "metadata": {},
   "outputs": [
    {
     "name": "stdout",
     "output_type": "stream",
     "text": [
      "id=2 name='Anshi' department='HR' salary=5000000.0 is_active=False\n"
     ]
    }
   ],
   "source": [
    "emp1= Employee(id=2,name=\"Anshi\",department=\"HR\",salary=5000000,is_active=False)\n",
    "print(emp1)"
   ]
  },
  {
   "cell_type": "markdown",
   "id": "11dd887c",
   "metadata": {},
   "source": [
    "Definition\n",
    "- Optional[type]: indicates the field can be None\n",
    "- Default value(=None or =True): Makes the field opitonal\n",
    "- Required fields must still be provided\n",
    "- Pydantic validates types even for optional field when values are provided"
   ]
  },
  {
   "cell_type": "code",
   "execution_count": 8,
   "id": "5236bc12",
   "metadata": {},
   "outputs": [],
   "source": [
    "from pydantic import BaseModel\n",
    "from typing import Optional\n",
    "class Classroom(BaseModel):\n",
    "    room_number:str\n",
    "    students: list[str]\n",
    "    capacity:int"
   ]
  },
  {
   "cell_type": "code",
   "execution_count": 9,
   "id": "762aa08d",
   "metadata": {},
   "outputs": [],
   "source": [
    "# create classroom\n",
    "classroom = Classroom(\n",
    "    room_number=\"A101\",\n",
    "    students=(\"Anna\",\"Bob\",\"Jack\"),\n",
    "    capacity=30\n",
    ")"
   ]
  },
  {
   "cell_type": "code",
   "execution_count": 10,
   "id": "8d1c40bb",
   "metadata": {},
   "outputs": [
    {
     "name": "stdout",
     "output_type": "stream",
     "text": [
      "room_number='A101' students=['Anna', 'Bob', 'Jack'] capacity=30\n"
     ]
    }
   ],
   "source": [
    "print(classroom)"
   ]
  },
  {
   "cell_type": "code",
   "execution_count": 11,
   "id": "208a5cca",
   "metadata": {},
   "outputs": [
    {
     "name": "stdout",
     "output_type": "stream",
     "text": [
      "1 validation error for Classroom\n",
      "students.1\n",
      "  Input should be a valid string [type=string_type, input_value=123, input_type=int]\n",
      "    For further information visit https://errors.pydantic.dev/2.11/v/string_type\n"
     ]
    }
   ],
   "source": [
    "try:\n",
    "    invalid_val = Classroom(room_number=\"A1\",students=[\"Krish\",123],capacity=30)\n",
    "except ValueError as e:\n",
    "    print(e)\n",
    "    "
   ]
  },
  {
   "cell_type": "code",
   "execution_count": 12,
   "id": "7d484db4",
   "metadata": {},
   "outputs": [
    {
     "name": "stdout",
     "output_type": "stream",
     "text": [
      "customer_id=1 name='Emma' address=Address(street='123 Main st', city='Boston', zip_code='12343')\n"
     ]
    }
   ],
   "source": [
    "## model with nested models\n",
    "from pydantic import BaseModel\n",
    "\n",
    "class Address(BaseModel):\n",
    "    street: str\n",
    "    city : str\n",
    "    zip_code: str\n",
    "class Customer (BaseModel):\n",
    "    customer_id:int\n",
    "    name: str\n",
    "    address: Address ##nested model\n",
    "\n",
    "# create a customer with nested address\n",
    "customer = Customer(\n",
    "    customer_id=1,\n",
    "    name=\"Emma\",\n",
    "    address={\"street\":\"123 Main st\",\"city\":\"Boston\",\"zip_code\":\"12343\"}\n",
    ")\n",
    "print(customer)"
   ]
  },
  {
   "cell_type": "markdown",
   "id": "c971f41e",
   "metadata": {},
   "source": [
    "Pydantic Fields: Customization and Constraints\n",
    "The field"
   ]
  },
  {
   "cell_type": "markdown",
   "id": "ec1c9d93",
   "metadata": {},
   "source": [
    "The field function in Pydantic enhances model field beyond basic type hints by allowing you to specify validation rules, default values, aliases and more."
   ]
  },
  {
   "cell_type": "code",
   "execution_count": null,
   "id": "cbe3ba98",
   "metadata": {},
   "outputs": [
    {
     "name": "stdout",
     "output_type": "stream",
     "text": [
      "name='Book' price=10.0 quantity=2\n"
     ]
    }
   ],
   "source": [
    "## we can create default values\n",
    "from pydantic import BaseModel,Field \n",
    "class Item(BaseModel):\n",
    "    name: str=Field(min_length=2, max_length=50)\n",
    "    price:float=Field(gt=0,le=1000) ## gretaer than 0 and less than 1000\n",
    "    quantity:int=Field(ge=0)\n",
    "item=Item(name=\"Book\",price=10,quantity=2)\n",
    "print(item)"
   ]
  },
  {
   "cell_type": "code",
   "execution_count": 14,
   "id": "ee61fe31",
   "metadata": {},
   "outputs": [],
   "source": [
    "from pydantic import BaseModel,Field\n",
    "class User(BaseModel):\n",
    "    username: str=Field(...,description=\"unique username for the user\")\n",
    "    age: int = Field(default=18, description=\"User age, defaults to 18\")\n",
    "    email: str = Field(default_factory=lambda:\"user@example.com\", description=\"Default email address\")\n",
    "\n",
    "user1 = User(username=\"abhipsa\")\n"
   ]
  },
  {
   "cell_type": "code",
   "execution_count": 15,
   "metadata": {},
   "outputs": [
    {
     "name": "stdout",
     "output_type": "stream",
     "text": [
      "username='abhipsa' age=18 email='user@example.com'\n"
     ]
    }
   ],
   "source": [
    "print(user1)"
   ]
  },
  {
   "cell_type": "code",
   "execution_count": 16,
   "id": "04df8092",
   "metadata": {},
   "outputs": [],
   "source": [
    "user2=User(username=\"nisha\",age=34,email=\"namie@gmail.com\")"
   ]
  },
  {
   "cell_type": "code",
   "execution_count": 17,
   "id": "4757d4db",
   "metadata": {},
   "outputs": [
    {
     "data": {
      "text/plain": [
       "User(username='nisha', age=34, email='namie@gmail.com')"
      ]
     },
     "execution_count": 17,
     "metadata": {},
     "output_type": "execute_result"
    }
   ],
   "source": [
    "user2"
   ]
  },
  {
   "cell_type": "code",
   "execution_count": 20,
   "id": "8d2039d9",
   "metadata": {},
   "outputs": [
    {
     "name": "stdout",
     "output_type": "stream",
     "text": [
      "{'properties': {'username': {'description': 'unique username for the user', 'title': 'Username', 'type': 'string'}, 'age': {'default': 18, 'description': 'User age, defaults to 18', 'title': 'Age', 'type': 'integer'}, 'email': {'description': 'Default email address', 'title': 'Email', 'type': 'string'}}, 'required': ['username'], 'title': 'User', 'type': 'object'}\n"
     ]
    },
    {
     "name": "stderr",
     "output_type": "stream",
     "text": [
      "/tmp/ipykernel_442/275923770.py:1: PydanticDeprecatedSince20: The `schema` method is deprecated; use `model_json_schema` instead. Deprecated in Pydantic V2.0 to be removed in V3.0. See Pydantic V2 Migration Guide at https://errors.pydantic.dev/2.11/migration/\n",
      "  print(User.schema())\n"
     ]
    }
   ],
   "source": [
    "print(User.schema())"
   ]
  },
  {
   "cell_type": "code",
   "execution_count": 19,
   "id": "098e2265",
   "metadata": {},
   "outputs": [
    {
     "name": "stdout",
     "output_type": "stream",
     "text": [
      "{'properties': {'username': {'description': 'unique username for the user', 'title': 'Username', 'type': 'string'}, 'age': {'default': 18, 'description': 'User age, defaults to 18', 'title': 'Age', 'type': 'integer'}, 'email': {'description': 'Default email address', 'title': 'Email', 'type': 'string'}}, 'required': ['username'], 'title': 'User', 'type': 'object'}\n"
     ]
    }
   ],
   "source": [
    "print(User.model_json_schema())"
   ]
  },
  {
   "cell_type": "code",
   "execution_count": null,
   "id": "365789ad",
   "metadata": {},
   "outputs": [],
   "source": []
  }
 ],
 "metadata": {
  "kernelspec": {
   "display_name": "venv",
   "language": "python",
   "name": "python3"
  },
  "language_info": {
   "codemirror_mode": {
    "name": "ipython",
    "version": 3
   },
   "file_extension": ".py",
   "mimetype": "text/x-python",
   "name": "python",
   "nbconvert_exporter": "python",
   "pygments_lexer": "ipython3",
   "version": "3.12.11"
  }
 },
 "nbformat": 4,
 "nbformat_minor": 5
}
